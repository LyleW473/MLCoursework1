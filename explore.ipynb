{
 "cells": [
  {
   "cell_type": "code",
   "execution_count": null,
   "metadata": {},
   "outputs": [],
   "source": [
    "import pandas as pd\n",
    "import matplotlib.pyplot as plt\n",
    "import numpy as np\n",
    "\n",
    "from sklearn.model_selection import train_test_split"
   ]
  },
  {
   "cell_type": "markdown",
   "metadata": {},
   "source": [
    "Load data"
   ]
  },
  {
   "cell_type": "code",
   "execution_count": null,
   "metadata": {},
   "outputs": [],
   "source": [
    "MAIN_DATA_DIR = \"data\"\n",
    "MAIN_DATA_FILE = \"CW1_train.csv\"\n",
    "DATA_PATH = f\"{MAIN_DATA_DIR}/{MAIN_DATA_FILE}\""
   ]
  },
  {
   "cell_type": "code",
   "execution_count": null,
   "metadata": {},
   "outputs": [],
   "source": [
    "EPS = 1e-8\n",
    "REPRODUCIBILITY_SEED = 42"
   ]
  },
  {
   "cell_type": "code",
   "execution_count": null,
   "metadata": {},
   "outputs": [],
   "source": [
    "data = pd.read_csv(DATA_PATH)"
   ]
  },
  {
   "cell_type": "code",
   "execution_count": null,
   "metadata": {},
   "outputs": [],
   "source": [
    "data.head()"
   ]
  },
  {
   "cell_type": "code",
   "execution_count": null,
   "metadata": {},
   "outputs": [],
   "source": [
    "data.columns"
   ]
  },
  {
   "cell_type": "code",
   "execution_count": null,
   "metadata": {},
   "outputs": [],
   "source": [
    "# Find columns\n",
    "all_columns = data.columns.tolist()\n",
    "print(all_columns)\n",
    "\n",
    "numeric_columns = data.select_dtypes(include=[\"number\"]).columns.tolist()\n",
    "numeric_columns.remove(\"outcome\") # Remove the target column\n",
    "print(numeric_columns)"
   ]
  },
  {
   "cell_type": "markdown",
   "metadata": {},
   "source": [
    "Checking for missing values"
   ]
  },
  {
   "cell_type": "code",
   "execution_count": null,
   "metadata": {},
   "outputs": [],
   "source": [
    "for column in all_columns:\n",
    "    num_nan = data[column].isna().sum()\n",
    "    num_none = data[column].isnull().sum()\n",
    "    print(f\"{column} | Number of NaN: {num_nan} | Number of None: {num_none}\")"
   ]
  },
  {
   "cell_type": "markdown",
   "metadata": {},
   "source": [
    "Data statistics"
   ]
  },
  {
   "cell_type": "code",
   "execution_count": null,
   "metadata": {},
   "outputs": [],
   "source": [
    "def print_statistics(data:pd.DataFrame, column:str):\n",
    "    \"\"\"\n",
    "    Calculates and prints the mean, median, standard deviation,\n",
    "    minimum and maximum values of a column in a DataFrame.\n",
    "\n",
    "    Args:\n",
    "        data (pd.DataFrame): The DataFrame containing the data.\n",
    "        column (str): The name of the column to calculate the statistics for.\n",
    "    \"\"\"\n",
    "\n",
    "    mean = data.mean()\n",
    "    median = data.median()\n",
    "    std = data.std()\n",
    "    min_val = data.min()\n",
    "    max_val = data.max()\n",
    "\n",
    "    print(f\"Statistics for column: {column}\")\n",
    "    print(f\"Mean: {mean}\")\n",
    "    print(f\"Median: {median}\")\n",
    "    print(f\"Standard Deviation: {std}\")\n",
    "    print(f\"Minimum Value: {min_val}\")\n",
    "    print(f\"Maximum Value: {max_val}\")\n",
    "    print()"
   ]
  },
  {
   "cell_type": "code",
   "execution_count": null,
   "metadata": {},
   "outputs": [],
   "source": [
    "# for column in numeric_columns:\n",
    "#     print_statistics(data[column], column)"
   ]
  },
  {
   "cell_type": "markdown",
   "metadata": {},
   "source": [
    "Data visualisation"
   ]
  },
  {
   "cell_type": "code",
   "execution_count": null,
   "metadata": {},
   "outputs": [],
   "source": [
    "def plot_distribution(data:pd.DataFrame, column:str, title:str) -> None:\n",
    "    \"\"\"\n",
    "    Plots the distribution of values in a column of a DataFrame.\n",
    "\n",
    "    Args:\n",
    "        data (pd.DataFrame): The DataFrame containing the data to plot.\n",
    "        column (str): The column to plot.\n",
    "        title (str): The title of the plot.\n",
    "    \"\"\"\n",
    "    data.plot.hist(title=title)\n",
    "    plt.xlabel(column)\n",
    "    plt.ylabel(\"Frequency\")\n",
    "    plt.show()"
   ]
  },
  {
   "cell_type": "code",
   "execution_count": null,
   "metadata": {},
   "outputs": [],
   "source": [
    "# for column in numeric_columns:\n",
    "#     plot_distribution(data[column], column, f\"Distribution of {column}\")"
   ]
  },
  {
   "cell_type": "code",
   "execution_count": null,
   "metadata": {},
   "outputs": [],
   "source": [
    "plot_distribution(data[\"outcome\"], \"outcome\", \"Distribution of outcome (target variable)\")"
   ]
  },
  {
   "cell_type": "markdown",
   "metadata": {},
   "source": [
    "Data splitting"
   ]
  },
  {
   "cell_type": "code",
   "execution_count": null,
   "metadata": {},
   "outputs": [],
   "source": [
    "# Split the data into training, validation and test sets\n",
    "training_and_val_data, test_data = train_test_split(data, test_size=0.2, random_state=REPRODUCIBILITY_SEED)\n",
    "training_data, val_data = train_test_split(training_and_val_data, test_size=0.2, random_state=REPRODUCIBILITY_SEED)"
   ]
  },
  {
   "cell_type": "markdown",
   "metadata": {},
   "source": [
    "Data normalisation (using mean, std standardisation)"
   ]
  },
  {
   "cell_type": "code",
   "execution_count": null,
   "metadata": {},
   "outputs": [],
   "source": [
    "for column in numeric_columns:\n",
    "    mean = training_data[column].mean()\n",
    "    std = training_data[column].std()\n",
    "    print(\"Before standardization:\")\n",
    "    plot_distribution(training_data[column], column, f\"Distribution of column '{column}'\")\n",
    "    print_statistics(training_data[column], column)\n",
    "    \n",
    "    print(\"After standardization:\")\n",
    "    training_data[column] = (training_data[column] - mean) / (std + 1e-8)\n",
    "    plot_distribution(training_data[column], column, f\"Standardized distribution of column '{column}'\")\n",
    "    print_statistics(training_data[column], column)"
   ]
  }
 ],
 "metadata": {
  "kernelspec": {
   "display_name": ".venv",
   "language": "python",
   "name": "python3"
  },
  "language_info": {
   "codemirror_mode": {
    "name": "ipython",
    "version": 3
   },
   "file_extension": ".py",
   "mimetype": "text/x-python",
   "name": "python",
   "nbconvert_exporter": "python",
   "pygments_lexer": "ipython3",
   "version": "3.11.9"
  }
 },
 "nbformat": 4,
 "nbformat_minor": 2
}
